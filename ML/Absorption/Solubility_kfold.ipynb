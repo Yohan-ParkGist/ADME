{
 "cells": [
  {
   "cell_type": "code",
   "execution_count": 1,
   "id": "99639e3e-f6bb-401d-a8d5-e5820bffe9ed",
   "metadata": {},
   "outputs": [],
   "source": [
    "from sklearn.ensemble import RandomForestRegressor\n",
    "from sklearn.model_selection import train_test_split\n",
    "from sklearn.metrics import accuracy_score\n",
    "from sklearn.metrics import mean_squared_error\n",
    "import numpy as np\n",
    "from rdkit import Chem\n",
    "from rdkit.Chem import AllChem\n",
    "from tdc.single_pred import ADME\n",
    "from DeepPurpose import utils, CompoundPred\n",
    "from tdc.single_pred import ADME\n",
    "from sklearn.model_selection import cross_val_score, KFold, cross_val_predict\n",
    "from sklearn import metrics\n",
    "from scipy.stats import pearsonr\n",
    "from sklearn.metrics import mean_squared_error, mean_absolute_error, r2_score\n",
    "import matplotlib.pyplot as plt"
   ]
  },
  {
   "cell_type": "code",
   "execution_count": 2,
   "id": "fb39fb66-2dcd-4210-a323-3b29c977bfa9",
   "metadata": {},
   "outputs": [
    {
     "name": "stderr",
     "output_type": "stream",
     "text": [
      "Downloading...\n",
      "100%|███████████████████████████████████████████████████████████████████████████████| 853k/853k [00:01<00:00, 720kiB/s]\n",
      "Loading...\n",
      "Done!\n"
     ]
    }
   ],
   "source": [
    "data = ADME(name = 'Solubility_AqSolDB').get_data(format = 'dict')\n",
    "X, y = data['Drug'], data['Y']"
   ]
  },
  {
   "cell_type": "code",
   "execution_count": 3,
   "id": "b9ac2124-a30b-4fc9-8b92-624fd28fc927",
   "metadata": {},
   "outputs": [
    {
     "name": "stdout",
     "output_type": "stream",
     "text": [
      "-2.8899088047869865\n",
      "2.1376816201\n",
      "-13.1719\n",
      "-2.61817341795\n"
     ]
    }
   ],
   "source": [
    "print(y.mean())\n",
    "print(y.max())\n",
    "print(y.min())\n",
    "print(np.median(y))"
   ]
  },
  {
   "cell_type": "code",
   "execution_count": 4,
   "id": "9ab0e03d-e97c-4279-a6ec-8b2514ca4efb",
   "metadata": {
    "scrolled": true
   },
   "outputs": [
    {
     "name": "stderr",
     "output_type": "stream",
     "text": [
      "[12:37:41] WARNING: not removing hydrogen atom without neighbors\n",
      "[12:37:41] WARNING: not removing hydrogen atom without neighbors\n",
      "[12:37:41] WARNING: not removing hydrogen atom without neighbors\n",
      "[12:37:41] WARNING: not removing hydrogen atom without neighbors\n",
      "[12:37:41] WARNING: not removing hydrogen atom without neighbors\n",
      "[12:37:41] WARNING: not removing hydrogen atom without neighbors\n",
      "[12:37:41] WARNING: not removing hydrogen atom without neighbors\n",
      "[12:37:41] WARNING: not removing hydrogen atom without neighbors\n",
      "[12:37:41] WARNING: not removing hydrogen atom without neighbors\n",
      "[12:37:41] WARNING: not removing hydrogen atom without neighbors\n",
      "[12:37:41] WARNING: not removing hydrogen atom without neighbors\n",
      "[12:37:41] WARNING: not removing hydrogen atom without neighbors\n",
      "[12:37:41] WARNING: not removing hydrogen atom without neighbors\n",
      "[12:37:41] WARNING: not removing hydrogen atom without neighbors\n",
      "[12:37:41] WARNING: not removing hydrogen atom without neighbors\n",
      "[12:37:41] WARNING: not removing hydrogen atom without neighbors\n",
      "[12:37:41] WARNING: not removing hydrogen atom without neighbors\n",
      "[12:37:41] WARNING: not removing hydrogen atom without neighbors\n",
      "[12:37:41] WARNING: not removing hydrogen atom without neighbors\n",
      "[12:37:41] WARNING: not removing hydrogen atom without neighbors\n",
      "[12:37:41] WARNING: not removing hydrogen atom without neighbors\n",
      "[12:37:41] WARNING: not removing hydrogen atom without neighbors\n",
      "[12:37:41] WARNING: not removing hydrogen atom without neighbors\n",
      "[12:37:41] WARNING: not removing hydrogen atom without neighbors\n",
      "[12:37:41] WARNING: not removing hydrogen atom without neighbors\n",
      "[12:37:41] WARNING: not removing hydrogen atom without neighbors\n",
      "[12:37:41] WARNING: not removing hydrogen atom without neighbors\n",
      "[12:37:41] WARNING: not removing hydrogen atom without neighbors\n",
      "[12:37:41] WARNING: not removing hydrogen atom without neighbors\n",
      "[12:37:41] WARNING: not removing hydrogen atom without neighbors\n",
      "[12:37:41] WARNING: not removing hydrogen atom without neighbors\n",
      "[12:37:41] WARNING: not removing hydrogen atom without neighbors\n",
      "[12:37:41] WARNING: not removing hydrogen atom without neighbors\n",
      "[12:37:41] WARNING: not removing hydrogen atom without neighbors\n",
      "[12:37:41] WARNING: not removing hydrogen atom without neighbors\n",
      "[12:37:41] WARNING: not removing hydrogen atom without neighbors\n",
      "[12:37:41] WARNING: not removing hydrogen atom without neighbors\n",
      "[12:37:41] WARNING: not removing hydrogen atom without neighbors\n",
      "[12:37:41] WARNING: not removing hydrogen atom without neighbors\n",
      "[12:37:41] WARNING: not removing hydrogen atom without neighbors\n",
      "[12:37:41] WARNING: not removing hydrogen atom without neighbors\n",
      "[12:37:41] WARNING: not removing hydrogen atom without neighbors\n",
      "[12:37:41] WARNING: not removing hydrogen atom without neighbors\n",
      "[12:37:41] WARNING: not removing hydrogen atom without neighbors\n",
      "[12:37:42] WARNING: not removing hydrogen atom without neighbors\n",
      "[12:37:42] WARNING: not removing hydrogen atom without neighbors\n",
      "[12:37:42] WARNING: not removing hydrogen atom without neighbors\n",
      "[12:37:42] WARNING: not removing hydrogen atom without neighbors\n",
      "[12:37:42] WARNING: not removing hydrogen atom without neighbors\n",
      "[12:37:42] WARNING: not removing hydrogen atom without neighbors\n",
      "[12:37:42] WARNING: not removing hydrogen atom without neighbors\n",
      "[12:37:42] WARNING: not removing hydrogen atom without neighbors\n",
      "[12:37:42] WARNING: not removing hydrogen atom without neighbors\n",
      "[12:37:42] WARNING: not removing hydrogen atom without neighbors\n",
      "[12:37:42] WARNING: not removing hydrogen atom without neighbors\n",
      "[12:37:42] WARNING: not removing hydrogen atom without neighbors\n",
      "[12:37:42] WARNING: not removing hydrogen atom without neighbors\n",
      "[12:37:42] WARNING: not removing hydrogen atom without neighbors\n",
      "[12:37:42] WARNING: not removing hydrogen atom without neighbors\n",
      "[12:37:42] WARNING: not removing hydrogen atom without neighbors\n",
      "[12:37:42] WARNING: not removing hydrogen atom without neighbors\n",
      "[12:37:42] WARNING: not removing hydrogen atom without neighbors\n",
      "[12:37:42] WARNING: not removing hydrogen atom without neighbors\n",
      "[12:37:42] WARNING: not removing hydrogen atom without neighbors\n",
      "[12:37:42] WARNING: not removing hydrogen atom without neighbors\n"
     ]
    }
   ],
   "source": [
    "X_morgan = [AllChem.GetMorganFingerprintAsBitVect(Chem.MolFromSmiles(smiles), 2, nBits=1024) for smiles in X]\n",
    "X_morgan_np = np.array([np.array(fp) for fp in X_morgan])\n",
    "# 데이터 분할: 학습 및 테스트 세트\n",
    "X_train, X_test, y_train, y_test = train_test_split(X_morgan_np, y, test_size=0.2, random_state=42)\n",
    "\n",
    "# Cross-validation을 위한 fold 개수와 반복 횟수 설정\n",
    "num_folds = 5\n",
    "num_repeats = 10\n",
    "\n",
    "# Cross-validation을 반복하여 각 반복에서의 점수를 저장할 리스트 생성\n",
    "cv_mse_scores = []\n",
    "cv_mape_scores = []\n",
    "cv_mae_scores = []\n",
    "cv_r2_scores = []\n",
    "\n",
    "# KFold 객체를 생성하여 데이터를 섞고 나누는 인덱스 생성\n",
    "kf = KFold(n_splits=num_folds, shuffle=True)"
   ]
  },
  {
   "cell_type": "code",
   "execution_count": 5,
   "id": "d0e8ba04-bcf4-461f-b997-80cde8d06fa0",
   "metadata": {},
   "outputs": [],
   "source": [
    "# 반복적으로 cross-validation 수행\n",
    "for i in range(num_repeats):\n",
    "    # 모델 정의\n",
    "    model = RandomForestRegressor(min_samples_leaf=4, min_samples_split=4 ,n_estimators=100, random_state=42)\n",
    "    \n",
    "    mse_scores = -cross_val_score(model, X_train, y_train, cv=kf, scoring='neg_mean_squared_error')\n",
    "    mae_scores = -cross_val_score(model, X_train, y_train, cv=kf, scoring='neg_mean_absolute_error')\n",
    "    mape_scores = -cross_val_score(model, X_train, y_train, cv=kf, scoring='neg_mean_absolute_percentage_error')\n",
    "    r2_scores = cross_val_score(model, X_train, y_train, cv=kf, scoring='r2')\n",
    "\n",
    "    cv_mse_scores.append(mse_scores.mean())\n",
    "    cv_mape_scores.append(mape_scores.mean())\n",
    "    cv_mae_scores.append(mae_scores.mean())\n",
    "    cv_r2_scores.append(r2_scores.mean())\n"
   ]
  },
  {
   "cell_type": "code",
   "execution_count": 6,
   "id": "4a2b0c6a-09c8-4155-a22e-0a9489937fe5",
   "metadata": {},
   "outputs": [
    {
     "name": "stdout",
     "output_type": "stream",
     "text": [
      "평균 Cross-validation MSE: 2.125849233491258\n",
      "Cross-validation MSE 표준 편차: 0.00899325442291375\n",
      "평균 Cross-validation MAE: 1.070882572529678\n",
      "Cross-validation MAE 표준 편차: 0.005201967023674141\n",
      "평균 Cross-validation MAPE: 1470681346503.5996\n",
      "Cross-validation MAPE 표준 편차: 113781949948.9357\n",
      "평균 Cross-validation R square: 0.6253337136841204\n",
      "Cross-validation R square 표준 편차: 0.0027997298867052187\n"
     ]
    }
   ],
   "source": [
    "# Cross-validation 점수의 평균 계산\n",
    "mean_mse_score = np.mean(cv_mse_scores)\n",
    "mean_mae_score = np.mean(cv_mae_scores)\n",
    "mean_mape_score = np.mean(cv_mape_scores)\n",
    "mean_r2_score = np.mean(cv_r2_scores)\n",
    "\n",
    "# Cross-validation 점수의 표준 편차 계산\n",
    "std_dev_mse = np.std(cv_mse_scores)\n",
    "std_dev_mae = np.std(cv_mae_scores)\n",
    "std_dev_mape = np.std(cv_mape_scores)\n",
    "std_dev_r2 = np.std(cv_r2_scores)\n",
    "\n",
    "# 평균과 표준 편차 출력\n",
    "print(\"평균 Cross-validation MSE:\", mean_mse_score)\n",
    "print(\"Cross-validation MSE 표준 편차:\", std_dev_mse)\n",
    "\n",
    "print(\"평균 Cross-validation MAE:\", mean_mae_score)\n",
    "print(\"Cross-validation MAE 표준 편차:\", std_dev_mae)\n",
    "\n",
    "print(\"평균 Cross-validation MAPE:\", mean_mape_score)\n",
    "print(\"Cross-validation MAPE 표준 편차:\", std_dev_mape)\n",
    "\n",
    "print(\"평균 Cross-validation R square:\", mean_r2_score)\n",
    "print(\"Cross-validation R square 표준 편차:\", std_dev_r2)"
   ]
  },
  {
   "cell_type": "code",
   "execution_count": null,
   "id": "54de4925-220a-41b8-839d-c9fa445eb1a0",
   "metadata": {},
   "outputs": [],
   "source": []
  }
 ],
 "metadata": {
  "kernelspec": {
   "display_name": "MLDL",
   "language": "python",
   "name": "mldl"
  },
  "language_info": {
   "codemirror_mode": {
    "name": "ipython",
    "version": 3
   },
   "file_extension": ".py",
   "mimetype": "text/x-python",
   "name": "python",
   "nbconvert_exporter": "python",
   "pygments_lexer": "ipython3",
   "version": "3.11.8"
  }
 },
 "nbformat": 4,
 "nbformat_minor": 5
}
