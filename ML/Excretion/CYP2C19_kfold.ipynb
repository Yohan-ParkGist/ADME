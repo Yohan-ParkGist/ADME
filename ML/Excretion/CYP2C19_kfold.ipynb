{
 "cells": [
  {
   "cell_type": "code",
   "execution_count": 1,
   "id": "800cd7b8-eb7d-4381-93ff-e56daaabac73",
   "metadata": {},
   "outputs": [],
   "source": [
    "from sklearn import svm\n",
    "from sklearn.model_selection import train_test_split\n",
    "from sklearn import datasets\n",
    "from sklearn.metrics import mean_squared_error\n",
    "import numpy as np\n",
    "from rdkit import Chem\n",
    "from rdkit.Chem import AllChem\n",
    "from tdc.single_pred import ADME\n",
    "from DeepPurpose import utils, CompoundPred\n",
    "from sklearn.preprocessing import StandardScaler\n",
    "from sklearn.svm import SVC\n",
    "from sklearn.metrics import accuracy_score\n",
    "from sklearn.model_selection import cross_val_score, KFold, cross_val_predict\n",
    "from sklearn import metrics\n",
    "from sklearn.metrics import f1_score, recall_score, roc_auc_score, precision_score\n",
    "import matplotlib.pyplot as plt\n",
    "from tdc.single_pred import ADME"
   ]
  },
  {
   "cell_type": "code",
   "execution_count": 2,
   "id": "512c80e4-2ec4-43cd-b61a-692161ba213b",
   "metadata": {},
   "outputs": [
    {
     "name": "stderr",
     "output_type": "stream",
     "text": [
      "Found local copy...\n",
      "Loading...\n",
      "Done!\n",
      " Oversample of minority class is used. \n"
     ]
    }
   ],
   "source": [
    "from tdc.single_pred import ADME\n",
    "adme = ADME(name='CYP2C19_Veith')\n",
    "balanced_data = adme.balanced(oversample=True, seed=42)\n",
    "X, y = balanced_data['Drug'], balanced_data['Y']"
   ]
  },
  {
   "cell_type": "code",
   "execution_count": 3,
   "id": "2cd4733c-9539-4f1f-a48d-c4050d5881f9",
   "metadata": {},
   "outputs": [],
   "source": [
    "X_morgan = [AllChem.GetMorganFingerprintAsBitVect(Chem.MolFromSmiles(smiles), 2, nBits=1024) for smiles in X]\n",
    "X_morgan_np = np.array([np.array(fp) for fp in X_morgan])\n",
    "# 데이터 분할: 학습 및 테스트 세트\n",
    "X_train, X_test, y_train, y_test = train_test_split(X_morgan_np, y, test_size=0.2, random_state=42)\n",
    "\n",
    "sc = StandardScaler()\n",
    "X_train = sc.fit_transform(X_train)\n",
    "X_test = sc.transform(X_test)\n",
    "\n",
    "# Cross-validation을 위한 fold 개수와 반복 횟수 설정\n",
    "num_folds = 5\n",
    "num_repeats = 10\n",
    "\n",
    "# Cross-validation을 반복하여 각 반복에서의 점수를 저장할 리스트 생성\n",
    "cv_acc_scores = []\n",
    "cv_precision_scores = []\n",
    "cv_recall_scores = []\n",
    "cv_f1_scores = []\n",
    "cv_roc_auc_scores = []\n",
    "\n",
    "# KFold 객체를 생성하여 데이터를 섞고 나누는 인덱스 생성\n",
    "kf = KFold(n_splits=num_folds, shuffle=True)"
   ]
  },
  {
   "cell_type": "code",
   "execution_count": null,
   "id": "98c11ebc-806a-4907-929e-2f3ee9c78e31",
   "metadata": {},
   "outputs": [],
   "source": [
    "# 반복적으로 cross-validation 수행\n",
    "for i in range(num_repeats):\n",
    "    # 모델 정의\n",
    "    model = svm.SVC(kernel='rbf', C= 1, gamma = 0.001, random_state=42)\n",
    "    \n",
    "    acc_scores = cross_val_score(model, X_train, y_train, cv=kf, scoring='accuracy')\n",
    "    precision_scores = cross_val_score(model, X_train, y_train, cv=kf, scoring='precision')\n",
    "    recall_scores = cross_val_score(model, X_train, y_train, cv=kf, scoring='recall')\n",
    "    f1_scores = cross_val_score(model, X_train, y_train, cv=kf, scoring='f1')\n",
    "    roc_auc_scores = cross_val_score(model, X_train, y_train, cv=kf, scoring='roc_auc')\n",
    "\n",
    "    cv_acc_scores.append(acc_scores.mean())\n",
    "    cv_precision_scores.append(precision_scores.mean())\n",
    "    cv_recall_scores.append(recall_scores.mean())\n",
    "    cv_f1_scores.append(f1_scores.mean())\n",
    "    cv_roc_auc_scores.append(roc_auc_scores.mean())"
   ]
  },
  {
   "cell_type": "code",
   "execution_count": null,
   "id": "56ceae0d-9d52-44c7-846c-361fdf51c955",
   "metadata": {},
   "outputs": [],
   "source": [
    "# Cross-validation 점수의 평균 계산\n",
    "mean_acc_score = np.mean(cv_acc_scores)\n",
    "mean_precision_score = np.mean(cv_precision_scores)\n",
    "mean_recall_score = np.mean(cv_recall_scores)\n",
    "mean_f1_score = np.mean(cv_f1_scores)\n",
    "mean_roc_auc_score = np.mean(cv_roc_auc_scores)\n",
    "\n",
    "# Cross-validation 점수의 표준 편차 계산\n",
    "std_dev_acc= np.std(cv_acc_scores)\n",
    "std_dev_precision = np.std(cv_precision_scores)\n",
    "std_dev_recall = np.std(cv_recall_scores)\n",
    "std_dev_f1 = np.std(cv_f1_scores)\n",
    "std_dev_roc_auc = np.std(cv_roc_auc_scores)\n",
    "\n",
    "# 평균과 표준 편차 출력\n",
    "print(\"평균 Cross-validation ACC:\", mean_acc_score)\n",
    "print(\"Cross-validation ACC 표준 편차:\", std_dev_acc)\n",
    "\n",
    "print(\"평균 Cross-validation Precision:\", mean_precision_score)\n",
    "print(\"Cross-validation Precision 표준 편차:\", std_dev_precision)\n",
    "\n",
    "print(\"평균 Cross-validation Recall:\", mean_recall_score)\n",
    "print(\"Cross-validation Recall 표준 편차:\", std_dev_recall)\n",
    "\n",
    "print(\"평균 Cross-validation F1 score:\", mean_f1_score)\n",
    "print(\"Cross-validation F1 score 표준 편차:\", std_dev_f1)\n",
    "\n",
    "print(\"평균 Cross-validation ROC-AUC:\", mean_roc_auc_score)\n",
    "print(\"Cross-validation ROC-AUC 표준 편차:\", std_dev_roc_auc)"
   ]
  },
  {
   "cell_type": "code",
   "execution_count": null,
   "id": "dbc7abcb-5f98-4c04-9205-ddfd2658fef7",
   "metadata": {},
   "outputs": [],
   "source": [
    "# 각 평가 지표의 평균과 표준 편차\n",
    "mean_scores = [mean_acc_score, mean_precision_score, mean_recall_score, mean_f1_score, mean_roc_auc_score]\n",
    "std_devs = [std_dev_acc, std_dev_precision, std_dev_recall, std_dev_f1, std_dev_roc_auc]\n",
    "\n",
    "# 그래프에 표시할 평가 지표 이름\n",
    "metrics = ['ACC', 'Precision', 'Recall', 'F1 score', 'ROC-AUC']\n",
    "\n",
    "# 에러율 계산\n",
    "error_values = [std_dev / mean_score for std_dev, mean_score in zip(std_devs, mean_scores)]\n",
    "\n",
    "# 그래프 크기 설정\n",
    "plt.figure(figsize=(10, 6))\n",
    "\n",
    "# 막대 그래프 그리기\n",
    "bar = plt.bar(metrics, mean_scores, yerr=std_devs, capsize=5, alpha=0.7, width=0.5)\n",
    "\n",
    "# 에러율 표시\n",
    "for i in range(len(metrics)):\n",
    "    plt.text(i, mean_scores[i] + std_devs[i] + 0.05, f'{error_values[i]*100:.2f}%', ha='center')\n",
    "    \n",
    "for rect in bar:\n",
    "    height = rect.get_height()\n",
    "    plt.text(rect.get_x() + rect.get_width()/2.0, height, f'{height:.2f}', ha='center', va='top')\n",
    "\n",
    "# 그래프 제목과 라벨 설정\n",
    "plt.title('Performance Evaluation')\n",
    "plt.xlabel('Metrics')\n",
    "plt.ylabel('Score')\n",
    "\n",
    "# 그래프 보이기\n",
    "plt.tight_layout()\n",
    "plt.show()"
   ]
  },
  {
   "cell_type": "code",
   "execution_count": null,
   "id": "5a9a4848-4030-43d5-b960-39571a768968",
   "metadata": {},
   "outputs": [],
   "source": []
  }
 ],
 "metadata": {
  "kernelspec": {
   "display_name": "MLDL",
   "language": "python",
   "name": "mldl"
  },
  "language_info": {
   "codemirror_mode": {
    "name": "ipython",
    "version": 3
   },
   "file_extension": ".py",
   "mimetype": "text/x-python",
   "name": "python",
   "nbconvert_exporter": "python",
   "pygments_lexer": "ipython3",
   "version": "3.11.8"
  }
 },
 "nbformat": 4,
 "nbformat_minor": 5
}
